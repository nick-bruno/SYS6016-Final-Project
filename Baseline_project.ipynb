{
 "cells": [
  {
   "cell_type": "code",
   "execution_count": 57,
   "metadata": {},
   "outputs": [],
   "source": [
    "import pandas as pd\n",
    "import numpy as np\n",
    "from sklearn.linear_model import LogisticRegression\n",
    "from scipy.stats import mode"
   ]
  },
  {
   "cell_type": "code",
   "execution_count": 58,
   "metadata": {},
   "outputs": [],
   "source": [
    "### Logistic Regression Using all Percent Changes to Predict Whether Google's Return will Increase (Transfer Learning)"
   ]
  },
  {
   "cell_type": "code",
   "execution_count": 59,
   "metadata": {},
   "outputs": [],
   "source": [
    "# Reading in the Data\n",
    "x = pd.read_csv('X.csv').astype('float32')\n",
    "x = x[['AAPL_pct_change', 'AMZ_pct_change', 'GOOG_pct_change', \n",
    "       'CSCO_pct_change', 'MSFT_pct_change', 'FB_pct_change', \n",
    "       'IBM_pct_change','time']]\n",
    "x = x.iloc[:-1,:]# Need to delete the last row\n",
    "y = pd.read_csv('Y.csv').astype('float32')\n",
    "y = y[['GOOG_y']]\n",
    "y = y.iloc[:-1,:]# Need to delete the last row"
   ]
  },
  {
   "cell_type": "code",
   "execution_count": 60,
   "metadata": {},
   "outputs": [
    {
     "data": {
      "text/plain": [
       "0.5653206650831354"
      ]
     },
     "execution_count": 60,
     "metadata": {},
     "output_type": "execute_result"
    }
   ],
   "source": [
    "# Evaluating the spread of the response-- nearly evenly split\n",
    "len(y['GOOG_y'][y['GOOG_y']==1])/len(y['GOOG_y'])"
   ]
  },
  {
   "cell_type": "code",
   "execution_count": 61,
   "metadata": {},
   "outputs": [],
   "source": [
    "# Splitting the data into training and testing\n",
    "x_train = x.sample(n=int(0.80*(len(x))))\n",
    "y_train = y.take(list(x_train.index))\n",
    "x_valid = x.drop(x_train.index)\n",
    "y_valid = y.drop(x_train.index)"
   ]
  },
  {
   "cell_type": "code",
   "execution_count": 62,
   "metadata": {},
   "outputs": [
    {
     "name": "stderr",
     "output_type": "stream",
     "text": [
      "C:\\Users\\cathe\\Anaconda3\\lib\\site-packages\\sklearn\\utils\\validation.py:761: DataConversionWarning: A column-vector y was passed when a 1d array was expected. Please change the shape of y to (n_samples, ), for example using ravel().\n",
      "  y = column_or_1d(y, warn=True)\n"
     ]
    }
   ],
   "source": [
    "# Performing Logistic Regression\n",
    "lr = LogisticRegression(solver='liblinear', multi_class='ovr').fit(x_train, y_train)\n",
    "preds = lr.predict(x_valid)"
   ]
  },
  {
   "cell_type": "code",
   "execution_count": 63,
   "metadata": {},
   "outputs": [
    {
     "data": {
      "text/plain": [
       "0.5529411764705883"
      ]
     },
     "execution_count": 63,
     "metadata": {},
     "output_type": "execute_result"
    }
   ],
   "source": [
    "# Finding percent accuracy\n",
    "sum(np.where(preds==y_valid['GOOG_y'], 1, 0))/len(y_valid)"
   ]
  },
  {
   "cell_type": "code",
   "execution_count": 64,
   "metadata": {},
   "outputs": [
    {
     "name": "stderr",
     "output_type": "stream",
     "text": [
      "C:\\Users\\cathe\\Anaconda3\\lib\\site-packages\\sklearn\\utils\\validation.py:761: DataConversionWarning: A column-vector y was passed when a 1d array was expected. Please change the shape of y to (n_samples, ), for example using ravel().\n",
      "  y = column_or_1d(y, warn=True)\n",
      "C:\\Users\\cathe\\Anaconda3\\lib\\site-packages\\sklearn\\utils\\validation.py:761: DataConversionWarning: A column-vector y was passed when a 1d array was expected. Please change the shape of y to (n_samples, ), for example using ravel().\n",
      "  y = column_or_1d(y, warn=True)\n",
      "C:\\Users\\cathe\\Anaconda3\\lib\\site-packages\\sklearn\\utils\\validation.py:761: DataConversionWarning: A column-vector y was passed when a 1d array was expected. Please change the shape of y to (n_samples, ), for example using ravel().\n",
      "  y = column_or_1d(y, warn=True)\n",
      "C:\\Users\\cathe\\Anaconda3\\lib\\site-packages\\sklearn\\utils\\validation.py:761: DataConversionWarning: A column-vector y was passed when a 1d array was expected. Please change the shape of y to (n_samples, ), for example using ravel().\n",
      "  y = column_or_1d(y, warn=True)\n",
      "C:\\Users\\cathe\\Anaconda3\\lib\\site-packages\\sklearn\\utils\\validation.py:761: DataConversionWarning: A column-vector y was passed when a 1d array was expected. Please change the shape of y to (n_samples, ), for example using ravel().\n",
      "  y = column_or_1d(y, warn=True)\n",
      "C:\\Users\\cathe\\Anaconda3\\lib\\site-packages\\sklearn\\utils\\validation.py:761: DataConversionWarning: A column-vector y was passed when a 1d array was expected. Please change the shape of y to (n_samples, ), for example using ravel().\n",
      "  y = column_or_1d(y, warn=True)\n",
      "C:\\Users\\cathe\\Anaconda3\\lib\\site-packages\\sklearn\\utils\\validation.py:761: DataConversionWarning: A column-vector y was passed when a 1d array was expected. Please change the shape of y to (n_samples, ), for example using ravel().\n",
      "  y = column_or_1d(y, warn=True)\n",
      "C:\\Users\\cathe\\Anaconda3\\lib\\site-packages\\sklearn\\utils\\validation.py:761: DataConversionWarning: A column-vector y was passed when a 1d array was expected. Please change the shape of y to (n_samples, ), for example using ravel().\n",
      "  y = column_or_1d(y, warn=True)\n",
      "C:\\Users\\cathe\\Anaconda3\\lib\\site-packages\\sklearn\\utils\\validation.py:761: DataConversionWarning: A column-vector y was passed when a 1d array was expected. Please change the shape of y to (n_samples, ), for example using ravel().\n",
      "  y = column_or_1d(y, warn=True)\n",
      "C:\\Users\\cathe\\Anaconda3\\lib\\site-packages\\sklearn\\svm\\base.py:922: ConvergenceWarning: Liblinear failed to converge, increase the number of iterations.\n",
      "  \"the number of iterations.\", ConvergenceWarning)\n",
      "C:\\Users\\cathe\\Anaconda3\\lib\\site-packages\\sklearn\\utils\\validation.py:761: DataConversionWarning: A column-vector y was passed when a 1d array was expected. Please change the shape of y to (n_samples, ), for example using ravel().\n",
      "  y = column_or_1d(y, warn=True)\n"
     ]
    },
    {
     "data": {
      "text/plain": [
       "0.5658823529411764"
      ]
     },
     "execution_count": 64,
     "metadata": {},
     "output_type": "execute_result"
    }
   ],
   "source": [
    "# redoing above 10 times and averaging accuracy to take into account the effect of different training samples\n",
    "acc = []\n",
    "perc1 = []\n",
    "for i in range(10):\n",
    "    x_train = x.sample(n=int(0.80*(len(x))))\n",
    "    y_train = y.take(list(x_train.index))\n",
    "    x_valid = x.drop(x_train.index)\n",
    "    y_valid = y.drop(x_train.index)\n",
    "    perc1.append(len(y_train['GOOG_y'][y_train['GOOG_y']==1])/len(y_train['GOOG_y']))\n",
    "    lr = LogisticRegression(solver='liblinear', multi_class='ovr').fit(x_train, y_train)\n",
    "    preds = lr.predict(x_valid)\n",
    "    acc.append(sum(np.where(preds==y_valid['GOOG_y'], 1, 0))/len(y_valid))\n",
    "np.mean(acc)"
   ]
  },
  {
   "cell_type": "code",
   "execution_count": 65,
   "metadata": {},
   "outputs": [
    {
     "data": {
      "text/html": [
       "<div>\n",
       "<style scoped>\n",
       "    .dataframe tbody tr th:only-of-type {\n",
       "        vertical-align: middle;\n",
       "    }\n",
       "\n",
       "    .dataframe tbody tr th {\n",
       "        vertical-align: top;\n",
       "    }\n",
       "\n",
       "    .dataframe thead th {\n",
       "        text-align: right;\n",
       "    }\n",
       "</style>\n",
       "<table border=\"1\" class=\"dataframe\">\n",
       "  <thead>\n",
       "    <tr style=\"text-align: right;\">\n",
       "      <th></th>\n",
       "      <th>0</th>\n",
       "      <th>1</th>\n",
       "      <th>2</th>\n",
       "      <th>3</th>\n",
       "      <th>4</th>\n",
       "      <th>5</th>\n",
       "      <th>6</th>\n",
       "      <th>7</th>\n",
       "      <th>8</th>\n",
       "      <th>9</th>\n",
       "    </tr>\n",
       "  </thead>\n",
       "  <tbody>\n",
       "    <tr>\n",
       "      <th>0</th>\n",
       "      <td>0.571429</td>\n",
       "      <td>0.577381</td>\n",
       "      <td>0.565476</td>\n",
       "      <td>0.559524</td>\n",
       "      <td>0.562500</td>\n",
       "      <td>0.565476</td>\n",
       "      <td>0.571429</td>\n",
       "      <td>0.568452</td>\n",
       "      <td>0.550595</td>\n",
       "      <td>0.5625</td>\n",
       "    </tr>\n",
       "    <tr>\n",
       "      <th>1</th>\n",
       "      <td>0.529412</td>\n",
       "      <td>0.505882</td>\n",
       "      <td>0.552941</td>\n",
       "      <td>0.588235</td>\n",
       "      <td>0.576471</td>\n",
       "      <td>0.564706</td>\n",
       "      <td>0.564706</td>\n",
       "      <td>0.552941</td>\n",
       "      <td>0.623529</td>\n",
       "      <td>0.6000</td>\n",
       "    </tr>\n",
       "  </tbody>\n",
       "</table>\n",
       "</div>"
      ],
      "text/plain": [
       "          0         1         2         3         4         5         6  \\\n",
       "0  0.571429  0.577381  0.565476  0.559524  0.562500  0.565476  0.571429   \n",
       "1  0.529412  0.505882  0.552941  0.588235  0.576471  0.564706  0.564706   \n",
       "\n",
       "          7         8       9  \n",
       "0  0.568452  0.550595  0.5625  \n",
       "1  0.552941  0.623529  0.6000  "
      ]
     },
     "execution_count": 65,
     "metadata": {},
     "output_type": "execute_result"
    }
   ],
   "source": [
    "pd.DataFrame(data=[perc1, acc])"
   ]
  },
  {
   "cell_type": "code",
   "execution_count": 66,
   "metadata": {},
   "outputs": [],
   "source": [
    "### Logistic Regression Using all Percent Changes to Predict Whether All Stocks Return will Increase Individually"
   ]
  },
  {
   "cell_type": "code",
   "execution_count": 67,
   "metadata": {},
   "outputs": [],
   "source": [
    "x = pd.read_csv('X.csv').astype('float32')\n",
    "x = x[['AAPL_pct_change', 'AMZ_pct_change', 'GOOG_pct_change', \n",
    "       'CSCO_pct_change', 'MSFT_pct_change', 'FB_pct_change', \n",
    "       'IBM_pct_change','time']]\n",
    "x = x.iloc[:-1,:]# Need to delete the last row\n",
    "y = pd.read_csv('Y.csv').astype('float32')\n",
    "y = y[['AAPL_y', 'AMZ_y', 'GOOG_y', 'CSCO_y', 'MSFT_y', 'FB_y','IBM_y']]\n",
    "y = y.iloc[:-1,:]# Need to delete the last row"
   ]
  },
  {
   "cell_type": "code",
   "execution_count": 68,
   "metadata": {},
   "outputs": [],
   "source": [
    "increase = []\n",
    "for r in range(len(y)):\n",
    "    increase.append(mode(np.array(y.iloc[r, :]), axis=None).mode[0])"
   ]
  },
  {
   "cell_type": "code",
   "execution_count": 69,
   "metadata": {},
   "outputs": [],
   "source": [
    "y['ModeIncrease'] = increase\n",
    "y = y['ModeIncrease']"
   ]
  },
  {
   "cell_type": "code",
   "execution_count": 70,
   "metadata": {},
   "outputs": [
    {
     "data": {
      "text/plain": [
       "0.6389548693586699"
      ]
     },
     "execution_count": 70,
     "metadata": {},
     "output_type": "execute_result"
    }
   ],
   "source": [
    "len(y[y==1])/len(y)"
   ]
  },
  {
   "cell_type": "code",
   "execution_count": 71,
   "metadata": {},
   "outputs": [],
   "source": [
    "x_train = x.sample(n=int(0.80*(len(x))))\n",
    "y_train = y.take(list(x_train.index))\n",
    "x_valid = x.drop(x_train.index)\n",
    "y_valid = y.drop(x_train.index)"
   ]
  },
  {
   "cell_type": "code",
   "execution_count": 72,
   "metadata": {},
   "outputs": [],
   "source": [
    "lr = LogisticRegression(solver='liblinear', multi_class='ovr').fit(x_train, y_train)\n",
    "preds = lr.predict(x_valid)"
   ]
  },
  {
   "cell_type": "code",
   "execution_count": 73,
   "metadata": {},
   "outputs": [
    {
     "data": {
      "text/plain": [
       "0.4588235294117647"
      ]
     },
     "execution_count": 73,
     "metadata": {},
     "output_type": "execute_result"
    }
   ],
   "source": [
    "# Finding Percent Accuracy\n",
    "sum(np.where(preds==y_valid, 1, 0))/len(y_valid)"
   ]
  },
  {
   "cell_type": "code",
   "execution_count": 74,
   "metadata": {},
   "outputs": [
    {
     "data": {
      "text/plain": [
       "0.6305882352941177"
      ]
     },
     "execution_count": 74,
     "metadata": {},
     "output_type": "execute_result"
    }
   ],
   "source": [
    "# redoing 10 times to average accuracy\n",
    "acc = []\n",
    "perc1 = []\n",
    "for i in range(10):\n",
    "    x_train = x.sample(n=int(0.80*(len(x))))\n",
    "    y_train = y.take(list(x_train.index))\n",
    "    x_valid = x.drop(x_train.index)\n",
    "    y_valid = y.drop(x_train.index)\n",
    "    perc1.append(len(y_train[y_train==1])/len(y_train))\n",
    "    lr = LogisticRegression(solver='liblinear', multi_class='ovr').fit(x_train, y_train)\n",
    "    preds = lr.predict(x_valid)\n",
    "    acc.append(sum(np.where(preds==y_valid, 1, 0))/len(y_valid))\n",
    "np.mean(acc)"
   ]
  },
  {
   "cell_type": "code",
   "execution_count": 75,
   "metadata": {},
   "outputs": [
    {
     "data": {
      "text/html": [
       "<div>\n",
       "<style scoped>\n",
       "    .dataframe tbody tr th:only-of-type {\n",
       "        vertical-align: middle;\n",
       "    }\n",
       "\n",
       "    .dataframe tbody tr th {\n",
       "        vertical-align: top;\n",
       "    }\n",
       "\n",
       "    .dataframe thead th {\n",
       "        text-align: right;\n",
       "    }\n",
       "</style>\n",
       "<table border=\"1\" class=\"dataframe\">\n",
       "  <thead>\n",
       "    <tr style=\"text-align: right;\">\n",
       "      <th></th>\n",
       "      <th>0</th>\n",
       "      <th>1</th>\n",
       "      <th>2</th>\n",
       "      <th>3</th>\n",
       "      <th>4</th>\n",
       "      <th>5</th>\n",
       "      <th>6</th>\n",
       "      <th>7</th>\n",
       "      <th>8</th>\n",
       "      <th>9</th>\n",
       "    </tr>\n",
       "  </thead>\n",
       "  <tbody>\n",
       "    <tr>\n",
       "      <th>0</th>\n",
       "      <td>0.636905</td>\n",
       "      <td>0.636905</td>\n",
       "      <td>0.642857</td>\n",
       "      <td>0.645833</td>\n",
       "      <td>0.630952</td>\n",
       "      <td>0.639881</td>\n",
       "      <td>0.639881</td>\n",
       "      <td>0.619048</td>\n",
       "      <td>0.633929</td>\n",
       "      <td>0.657738</td>\n",
       "    </tr>\n",
       "    <tr>\n",
       "      <th>1</th>\n",
       "      <td>0.647059</td>\n",
       "      <td>0.658824</td>\n",
       "      <td>0.635294</td>\n",
       "      <td>0.600000</td>\n",
       "      <td>0.623529</td>\n",
       "      <td>0.600000</td>\n",
       "      <td>0.623529</td>\n",
       "      <td>0.682353</td>\n",
       "      <td>0.670588</td>\n",
       "      <td>0.564706</td>\n",
       "    </tr>\n",
       "  </tbody>\n",
       "</table>\n",
       "</div>"
      ],
      "text/plain": [
       "          0         1         2         3         4         5         6  \\\n",
       "0  0.636905  0.636905  0.642857  0.645833  0.630952  0.639881  0.639881   \n",
       "1  0.647059  0.658824  0.635294  0.600000  0.623529  0.600000  0.623529   \n",
       "\n",
       "          7         8         9  \n",
       "0  0.619048  0.633929  0.657738  \n",
       "1  0.682353  0.670588  0.564706  "
      ]
     },
     "execution_count": 75,
     "metadata": {},
     "output_type": "execute_result"
    }
   ],
   "source": [
    "pd.DataFrame(data=[perc1, acc])"
   ]
  }
 ],
 "metadata": {
  "kernelspec": {
   "display_name": "Python 3",
   "language": "python",
   "name": "python3"
  },
  "language_info": {
   "codemirror_mode": {
    "name": "ipython",
    "version": 3
   },
   "file_extension": ".py",
   "mimetype": "text/x-python",
   "name": "python",
   "nbconvert_exporter": "python",
   "pygments_lexer": "ipython3",
   "version": "3.7.1"
  }
 },
 "nbformat": 4,
 "nbformat_minor": 2
}
